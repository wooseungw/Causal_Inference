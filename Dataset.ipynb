{
 "cells": [
  {
   "cell_type": "code",
   "execution_count": 25,
   "metadata": {},
   "outputs": [
    {
     "name": "stdout",
     "output_type": "stream",
     "text": [
      "['/Users/seungwoo/Workspace/Causal_Inference/Dataset/Train/Image/Organization/066595'\n",
      " '/Users/seungwoo/Workspace/Causal_Inference/Dataset/Train/Image/Organization/107272'\n",
      " '/Users/seungwoo/Workspace/Causal_Inference/Dataset/Train/Image/Organization/116132'\n",
      " ...\n",
      " '/Users/seungwoo/Workspace/Causal_Inference/Dataset/Train/Image/Cutting/086556'\n",
      " '/Users/seungwoo/Workspace/Causal_Inference/Dataset/Train/Image/Cutting/113609'\n",
      " '/Users/seungwoo/Workspace/Causal_Inference/Dataset/Train/Image/Cutting/079350']\n"
     ]
    }
   ],
   "source": [
    "import os\n",
    "import numpy as np\n",
    "\n",
    "def get_subdirectories(parent_directory):\n",
    "    \"\"\"주어진 디렉토리 내의 모든 하위 디렉토리의 경로를 리스트로 반환합니다.\"\"\"\n",
    "    subdirectories = [os.path.join(parent_directory, d) for d in os.listdir(parent_directory) \n",
    "                      if os.path.isdir(os.path.join(parent_directory, d))]\n",
    "    return subdirectories\n",
    "\n",
    "def get_all_subdirectories(parent_directory):\n",
    "    \"\"\"주어진 디렉토리 내의 첫 번째 및 두 번째 레벨 하위 디렉토리의 경로를 NumPy ndarray로 반환합니다.\"\"\"\n",
    "    first_level_subdirs = get_subdirectories(parent_directory)\n",
    "    all_subdirs = []\n",
    "\n",
    "    for subdir in first_level_subdirs:\n",
    "        second_level_subdirs = get_subdirectories(subdir)\n",
    "        all_subdirs.extend(second_level_subdirs)  # 두 번째 레벨의 디렉토리를 추가\n",
    "\n",
    "    return np.array(all_subdirs)\n",
    "\n",
    "\n",
    "\n",
    "category_list = get_subdirectories(os.path.join(os.getcwd(),\"Dataset/Train/Image\"))\n",
    "all_list = get_all_subdirectories(os.path.join(os.getcwd(),\"Dataset/Train/Image\"))\n",
    "print(all_list)"
   ]
  },
  {
   "cell_type": "code",
   "execution_count": 29,
   "metadata": {},
   "outputs": [
    {
     "name": "stdout",
     "output_type": "stream",
     "text": [
      "48000\n",
      "6000\n"
     ]
    }
   ],
   "source": [
    "from Dataset import *\n",
    "dir = os.path.join(os.getcwd(),\"Dataset/Train/Image\")\n",
    "train_dataset = BaseDataset(dir,True)\n",
    "print(len(train_dataset))\n",
    "val_dataset = BaseDataset(dir,False)\n",
    "print(len(val_dataset))"
   ]
  }
 ],
 "metadata": {
  "kernelspec": {
   "display_name": "transformer",
   "language": "python",
   "name": "python3"
  },
  "language_info": {
   "codemirror_mode": {
    "name": "ipython",
    "version": 3
   },
   "file_extension": ".py",
   "mimetype": "text/x-python",
   "name": "python",
   "nbconvert_exporter": "python",
   "pygments_lexer": "ipython3",
   "version": "3.10.8"
  }
 },
 "nbformat": 4,
 "nbformat_minor": 2
}
