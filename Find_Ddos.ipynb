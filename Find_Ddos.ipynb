{
 "cells": [
  {
   "cell_type": "code",
   "execution_count": 8,
   "metadata": {},
   "outputs": [
    {
     "name": "stderr",
     "output_type": "stream",
     "text": [
      "c:\\Users\\LBW\\anaconda3\\envs\\cu118\\Lib\\site-packages\\PIL\\Image.py:3074: DecompressionBombWarning: Image size (108000000 pixels) exceeds limit of 89478485 pixels, could be decompression bomb DOS attack.\n",
      "  warnings.warn(\n"
     ]
    },
    {
     "name": "stdout",
     "output_type": "stream",
     "text": [
      "C:\\Workspace\\Causal_Inference\\Dataset\\Train\\Image\\Extraction\\081419\\c9f51dc5d02e45f88ea9a5b0a77f3753.jpg: 12000 x 9000 pixels\n"
     ]
    }
   ],
   "source": [
    "from PIL import Image\n",
    "import os\n",
    "\n",
    "Train_Image = \"C:\\Workspace\\Causal_Inference\\Dataset\\Train\\Image\"\n",
    "folder_list = ['Achievement', 'Consumption', 'Cutting', 'Damage', 'Extraction', 'Growth', 'Operation', 'Organization', 'Pollution', 'Processing']\n",
    "for i in range(len(folder_list)):\n",
    "    image_folder = os.path.join(Train_Image, folder_list[i])\n",
    "    for filename in os.listdir(image_folder):\n",
    "        filepath = os.path.join(image_folder, filename)\n",
    "        for filename2 in os.listdir(filepath):\n",
    "            if filename2.lower().endswith((\".png\", \".jpg\", \".jpeg\", \".gif\", \".bmp\")):\n",
    "                realpath = os.path.join(filepath, filename2)\n",
    "                with Image.open(realpath) as img:\n",
    "                    width, height = img.size\n",
    "                    if width*height > 89478485:\n",
    "                        print(f\"{realpath}: {width} x {height} pixels\")\n"
   ]
  },
  {
   "cell_type": "code",
   "execution_count": 9,
   "metadata": {},
   "outputs": [
    {
     "name": "stderr",
     "output_type": "stream",
     "text": [
      "c:\\Users\\LBW\\anaconda3\\envs\\cu118\\Lib\\site-packages\\PIL\\Image.py:3074: DecompressionBombWarning: Image size (108000000 pixels) exceeds limit of 89478485 pixels, could be decompression bomb DOS attack.\n",
      "  warnings.warn(\n"
     ]
    },
    {
     "ename": "ValueError",
     "evalue": "unknown file extension: ",
     "output_type": "error",
     "traceback": [
      "\u001b[1;31m---------------------------------------------------------------------------\u001b[0m",
      "\u001b[1;31mKeyError\u001b[0m                                  Traceback (most recent call last)",
      "File \u001b[1;32mc:\\Users\\LBW\\anaconda3\\envs\\cu118\\Lib\\site-packages\\PIL\\Image.py:2331\u001b[0m, in \u001b[0;36mImage.save\u001b[1;34m(self, fp, format, **params)\u001b[0m\n\u001b[0;32m   2330\u001b[0m \u001b[38;5;28;01mtry\u001b[39;00m:\n\u001b[1;32m-> 2331\u001b[0m     \u001b[38;5;28mformat\u001b[39m \u001b[38;5;241m=\u001b[39m \u001b[43mEXTENSION\u001b[49m\u001b[43m[\u001b[49m\u001b[43mext\u001b[49m\u001b[43m]\u001b[49m\n\u001b[0;32m   2332\u001b[0m \u001b[38;5;28;01mexcept\u001b[39;00m \u001b[38;5;167;01mKeyError\u001b[39;00m \u001b[38;5;28;01mas\u001b[39;00m e:\n",
      "\u001b[1;31mKeyError\u001b[0m: ''",
      "\nThe above exception was the direct cause of the following exception:\n",
      "\u001b[1;31mValueError\u001b[0m                                Traceback (most recent call last)",
      "Cell \u001b[1;32mIn[9], line 4\u001b[0m\n\u001b[0;32m      2\u001b[0m ddos_img \u001b[38;5;241m=\u001b[39m Image\u001b[38;5;241m.\u001b[39mopen(ddos_img_path)\n\u001b[0;32m      3\u001b[0m resized_img \u001b[38;5;241m=\u001b[39m ddos_img\u001b[38;5;241m.\u001b[39mresize((\u001b[38;5;241m4000\u001b[39m, \u001b[38;5;241m3000\u001b[39m))\n\u001b[1;32m----> 4\u001b[0m \u001b[43mresized_img\u001b[49m\u001b[38;5;241;43m.\u001b[39;49m\u001b[43msave\u001b[49m\u001b[43m(\u001b[49m\u001b[38;5;124;43m'\u001b[39;49m\u001b[38;5;124;43m./ddos_img\u001b[39;49m\u001b[38;5;124;43m'\u001b[39;49m\u001b[43m)\u001b[49m\n",
      "File \u001b[1;32mc:\\Users\\LBW\\anaconda3\\envs\\cu118\\Lib\\site-packages\\PIL\\Image.py:2333\u001b[0m, in \u001b[0;36mImage.save\u001b[1;34m(self, fp, format, **params)\u001b[0m\n\u001b[0;32m   2331\u001b[0m         \u001b[38;5;28mformat\u001b[39m \u001b[38;5;241m=\u001b[39m EXTENSION[ext]\n\u001b[0;32m   2332\u001b[0m     \u001b[38;5;28;01mexcept\u001b[39;00m \u001b[38;5;167;01mKeyError\u001b[39;00m \u001b[38;5;28;01mas\u001b[39;00m e:\n\u001b[1;32m-> 2333\u001b[0m         \u001b[38;5;28;01mraise\u001b[39;00m \u001b[38;5;167;01mValueError\u001b[39;00m(\u001b[38;5;124mf\u001b[39m\u001b[38;5;124m\"\u001b[39m\u001b[38;5;124munknown file extension: \u001b[39m\u001b[38;5;132;01m{\u001b[39;00mext\u001b[38;5;132;01m}\u001b[39;00m\u001b[38;5;124m\"\u001b[39m) \u001b[38;5;28;01mfrom\u001b[39;00m \u001b[38;5;21;01me\u001b[39;00m\n\u001b[0;32m   2335\u001b[0m \u001b[38;5;28;01mif\u001b[39;00m \u001b[38;5;28mformat\u001b[39m\u001b[38;5;241m.\u001b[39mupper() \u001b[38;5;129;01mnot\u001b[39;00m \u001b[38;5;129;01min\u001b[39;00m SAVE:\n\u001b[0;32m   2336\u001b[0m     init()\n",
      "\u001b[1;31mValueError\u001b[0m: unknown file extension: "
     ]
    }
   ],
   "source": [
    "ddos_img_path = 'C:\\Workspace\\Causal_Inference\\Dataset\\Train\\Image\\Extraction/081419\\c9f51dc5d02e45f88ea9a5b0a77f3753.jpg'\n",
    "ddos_img = Image.open(ddos_img_path)\n",
    "resized_img = ddos_img.resize((4000, 3000))\n",
    "resized_img.save('./')"
   ]
  }
 ],
 "metadata": {
  "kernelspec": {
   "display_name": "cu118",
   "language": "python",
   "name": "python3"
  },
  "language_info": {
   "codemirror_mode": {
    "name": "ipython",
    "version": 3
   },
   "file_extension": ".py",
   "mimetype": "text/x-python",
   "name": "python",
   "nbconvert_exporter": "python",
   "pygments_lexer": "ipython3",
   "version": "3.11.4"
  }
 },
 "nbformat": 4,
 "nbformat_minor": 2
}
