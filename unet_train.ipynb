{
 "cells": [
  {
   "cell_type": "code",
   "execution_count": 9,
   "metadata": {},
   "outputs": [
    {
     "name": "stdout",
     "output_type": "stream",
     "text": [
      "48000\n",
      "6000\n",
      "mps\n"
     ]
    }
   ],
   "source": [
    "import platform\n",
    "from Dataset import *\n",
    "#os 체크 후 cuda 혹은 mps사용 or cpu\n",
    "if platform.system() == 'Darwin':\n",
    "    device = torch.device(\"mps\")\n",
    "else:\n",
    "    device = 'cuda' if torch.cuda.is_available() else 'cpu'\n",
    "print(device)\n",
    "\n",
    "    \n",
    "dir = os.path.join(os.getcwd(),\"Dataset/Train/Image\")\n",
    "train_dataset = BaseDataset(dir,True)\n",
    "print(len(train_dataset))\n",
    "val_dataset = BaseDataset(dir,False)\n",
    "print(len(val_dataset))\n"
   ]
  },
  {
   "cell_type": "code",
   "execution_count": null,
   "metadata": {},
   "outputs": [],
   "source": [
    "from unet import *\n",
    "model = Unet(3)\n"
   ]
  }
 ],
 "metadata": {
  "kernelspec": {
   "display_name": "transformer",
   "language": "python",
   "name": "python3"
  },
  "language_info": {
   "codemirror_mode": {
    "name": "ipython",
    "version": 3
   },
   "file_extension": ".py",
   "mimetype": "text/x-python",
   "name": "python",
   "nbconvert_exporter": "python",
   "pygments_lexer": "ipython3",
   "version": "3.10.8"
  }
 },
 "nbformat": 4,
 "nbformat_minor": 2
}
