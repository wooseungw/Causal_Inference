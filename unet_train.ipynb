{
 "cells": [
  {
   "cell_type": "code",
   "execution_count": 1,
   "metadata": {},
   "outputs": [
    {
     "name": "stdout",
     "output_type": "stream",
     "text": [
      "cuda\n"
     ]
    },
    {
     "ename": "FileNotFoundError",
     "evalue": "[WinError 3] 지정된 경로를 찾을 수 없습니다: 'c:\\\\Workspace\\\\Causal_Inference\\\\py_light\\\\Dataset/Train/Image'",
     "output_type": "error",
     "traceback": [
      "\u001b[1;31m---------------------------------------------------------------------------\u001b[0m",
      "\u001b[1;31mFileNotFoundError\u001b[0m                         Traceback (most recent call last)",
      "Cell \u001b[1;32mIn[1], line 12\u001b[0m\n\u001b[0;32m      8\u001b[0m \u001b[38;5;28mprint\u001b[39m(device)\n\u001b[0;32m     11\u001b[0m \u001b[38;5;28mdir\u001b[39m \u001b[38;5;241m=\u001b[39m os\u001b[38;5;241m.\u001b[39mpath\u001b[38;5;241m.\u001b[39mjoin(os\u001b[38;5;241m.\u001b[39mgetcwd(),\u001b[38;5;124m\"\u001b[39m\u001b[38;5;124mDataset/Train/Image\u001b[39m\u001b[38;5;124m\"\u001b[39m)\n\u001b[1;32m---> 12\u001b[0m train_dataset \u001b[38;5;241m=\u001b[39m \u001b[43mBaseDataset\u001b[49m\u001b[43m(\u001b[49m\u001b[38;5;28;43mdir\u001b[39;49m\u001b[43m,\u001b[49m\u001b[38;5;28;43;01mTrue\u001b[39;49;00m\u001b[43m)\u001b[49m\n\u001b[0;32m     13\u001b[0m \u001b[38;5;28mprint\u001b[39m(\u001b[38;5;28mlen\u001b[39m(train_dataset))\n\u001b[0;32m     14\u001b[0m val_dataset \u001b[38;5;241m=\u001b[39m BaseDataset(\u001b[38;5;28mdir\u001b[39m,\u001b[38;5;28;01mFalse\u001b[39;00m)\n",
      "File \u001b[1;32mc:\\Workspace\\Causal_Inference\\py_light\\Dataset.py:36\u001b[0m, in \u001b[0;36mBaseDataset.__init__\u001b[1;34m(self, loc, istrain)\u001b[0m\n\u001b[0;32m     34\u001b[0m \u001b[38;5;28;01mdef\u001b[39;00m \u001b[38;5;21m__init__\u001b[39m(\u001b[38;5;28mself\u001b[39m, loc\u001b[38;5;241m=\u001b[39mos\u001b[38;5;241m.\u001b[39mpath\u001b[38;5;241m.\u001b[39mjoin(os\u001b[38;5;241m.\u001b[39mgetcwd(), \u001b[38;5;124m\"\u001b[39m\u001b[38;5;124mDataset/Train/Image\u001b[39m\u001b[38;5;124m\"\u001b[39m), istrain\u001b[38;5;241m=\u001b[39m\u001b[38;5;28;01mTrue\u001b[39;00m):\n\u001b[0;32m     35\u001b[0m     \u001b[38;5;28mself\u001b[39m\u001b[38;5;241m.\u001b[39mloc \u001b[38;5;241m=\u001b[39m loc \u001b[38;5;28;01mif\u001b[39;00m istrain \u001b[38;5;28;01melse\u001b[39;00m loc\u001b[38;5;241m.\u001b[39mreplace(\u001b[38;5;124m\"\u001b[39m\u001b[38;5;124mTrain\u001b[39m\u001b[38;5;124m\"\u001b[39m, \u001b[38;5;124m\"\u001b[39m\u001b[38;5;124mValid\u001b[39m\u001b[38;5;124m\"\u001b[39m)\n\u001b[1;32m---> 36\u001b[0m     \u001b[38;5;28mself\u001b[39m\u001b[38;5;241m.\u001b[39mdir_names \u001b[38;5;241m=\u001b[39m \u001b[43mget_all_subdirectories\u001b[49m\u001b[43m(\u001b[49m\u001b[38;5;28;43mself\u001b[39;49m\u001b[38;5;241;43m.\u001b[39;49m\u001b[43mloc\u001b[49m\u001b[43m)\u001b[49m\n",
      "File \u001b[1;32mc:\\Workspace\\Causal_Inference\\py_light\\Dataset.py:19\u001b[0m, in \u001b[0;36mget_all_subdirectories\u001b[1;34m(parent_directory)\u001b[0m\n\u001b[0;32m     17\u001b[0m \u001b[38;5;28;01mdef\u001b[39;00m \u001b[38;5;21mget_all_subdirectories\u001b[39m(parent_directory):\n\u001b[0;32m     18\u001b[0m \u001b[38;5;250m    \u001b[39m\u001b[38;5;124;03m\"\"\"주어진 디렉토리 내의 첫 번째 및 두 번째 레벨 하위 디렉토리의 경로를 NumPy ndarray로 반환합니다.\"\"\"\u001b[39;00m\n\u001b[1;32m---> 19\u001b[0m     first_level_subdirs \u001b[38;5;241m=\u001b[39m \u001b[43mget_subdirectories\u001b[49m\u001b[43m(\u001b[49m\u001b[43mparent_directory\u001b[49m\u001b[43m)\u001b[49m\n\u001b[0;32m     20\u001b[0m     all_subdirs \u001b[38;5;241m=\u001b[39m []\n\u001b[0;32m     22\u001b[0m     \u001b[38;5;28;01mfor\u001b[39;00m subdir \u001b[38;5;129;01min\u001b[39;00m first_level_subdirs:\n",
      "File \u001b[1;32mc:\\Workspace\\Causal_Inference\\py_light\\Dataset.py:13\u001b[0m, in \u001b[0;36mget_subdirectories\u001b[1;34m(parent_directory)\u001b[0m\n\u001b[0;32m     11\u001b[0m \u001b[38;5;28;01mdef\u001b[39;00m \u001b[38;5;21mget_subdirectories\u001b[39m(parent_directory):\n\u001b[0;32m     12\u001b[0m \u001b[38;5;250m    \u001b[39m\u001b[38;5;124;03m\"\"\"주어진 디렉토리 내의 모든 하위 디렉토리의 경로를 리스트로 반환합니다.\"\"\"\u001b[39;00m\n\u001b[1;32m---> 13\u001b[0m     subdirectories \u001b[38;5;241m=\u001b[39m [os\u001b[38;5;241m.\u001b[39mpath\u001b[38;5;241m.\u001b[39mjoin(parent_directory, d) \u001b[38;5;28;01mfor\u001b[39;00m d \u001b[38;5;129;01min\u001b[39;00m \u001b[43mos\u001b[49m\u001b[38;5;241;43m.\u001b[39;49m\u001b[43mlistdir\u001b[49m\u001b[43m(\u001b[49m\u001b[43mparent_directory\u001b[49m\u001b[43m)\u001b[49m \n\u001b[0;32m     14\u001b[0m                     \u001b[38;5;28;01mif\u001b[39;00m os\u001b[38;5;241m.\u001b[39mpath\u001b[38;5;241m.\u001b[39misdir(os\u001b[38;5;241m.\u001b[39mpath\u001b[38;5;241m.\u001b[39mjoin(parent_directory, d))]\n\u001b[0;32m     15\u001b[0m     \u001b[38;5;28;01mreturn\u001b[39;00m subdirectories\n",
      "\u001b[1;31mFileNotFoundError\u001b[0m: [WinError 3] 지정된 경로를 찾을 수 없습니다: 'c:\\\\Workspace\\\\Causal_Inference\\\\py_light\\\\Dataset/Train/Image'"
     ]
    }
   ],
   "source": [
    "import platform\n",
    "from Dataset import *\n",
    "#os 체크 후 cuda 혹은 mps사용 or cpu\n",
    "if platform.system() == 'Darwin':\n",
    "    device = torch.device(\"mps\")\n",
    "else:\n",
    "    device = 'cuda' if torch.cuda.is_available() else 'cpu'\n",
    "print(device)\n",
    "\n",
    "    \n",
    "dir = os.path.join(os.getcwd(),\"Dataset/Train/Image\")\n",
    "train_dataset = BaseDataset(dir,True)\n",
    "print(len(train_dataset))\n",
    "val_dataset = BaseDataset(dir,False)\n",
    "print(len(val_dataset))\n"
   ]
  },
  {
   "cell_type": "code",
   "execution_count": null,
   "metadata": {},
   "outputs": [],
   "source": [
    "from py_light.unet import *\n",
    "model = Unet(3)\n"
   ]
  }
 ],
 "metadata": {
  "kernelspec": {
   "display_name": "transformer",
   "language": "python",
   "name": "python3"
  },
  "language_info": {
   "codemirror_mode": {
    "name": "ipython",
    "version": 3
   },
   "file_extension": ".py",
   "mimetype": "text/x-python",
   "name": "python",
   "nbconvert_exporter": "python",
   "pygments_lexer": "ipython3",
   "version": "3.11.4"
  }
 },
 "nbformat": 4,
 "nbformat_minor": 2
}
